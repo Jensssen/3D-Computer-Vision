{
 "cells": [
  {
   "cell_type": "markdown",
   "metadata": {},
   "source": [
    "# Exercise 2 - Points and lines"
   ]
  },
  {
   "cell_type": "markdown",
   "metadata": {},
   "source": [
    "### Show that a certain Point is on a defined line"
   ]
  },
  {
   "cell_type": "code",
   "execution_count": 107,
   "metadata": {},
   "outputs": [
    {
     "name": "stdout",
     "output_type": "stream",
     "text": [
      "Point 1 =  [1 2 5]\n",
      "Line 1 =  [10  5 -4]\n"
     ]
    }
   ],
   "source": [
    "Point = np.array([1,2,5])\n",
    "Line = np.array([10,5,-4])\n",
    "print(\"Point 1 = \",Point)\n",
    "print(\"Line 1 = \",Line)"
   ]
  },
  {
   "cell_type": "code",
   "execution_count": 108,
   "metadata": {
    "collapsed": true
   },
   "outputs": [],
   "source": [
    "def linepoint(xE,yE,c):\n",
    "    if (0 == Point[0] * xE + Point[1] * yE + Point[2] * c):\n",
    "        print(\"The Point: \", Point, \" is on the Line: \", Line)\n",
    "    else:\n",
    "        print(\"The Point: \", Point, \" is not on the Line: \", Line)"
   ]
  },
  {
   "cell_type": "code",
   "execution_count": 109,
   "metadata": {},
   "outputs": [
    {
     "name": "stdout",
     "output_type": "stream",
     "text": [
      "The Point:  [1 2 5]  is on the Line:  [10  5 -4]\n"
     ]
    }
   ],
   "source": [
    "linepoint(Line[0],Line[1],Line[2])"
   ]
  },
  {
   "cell_type": "markdown",
   "metadata": {},
   "source": [
    "### Are Line 2 and Line 3 parallel to Line 1?"
   ]
  },
  {
   "cell_type": "code",
   "execution_count": 112,
   "metadata": {},
   "outputs": [
    {
     "name": "stdout",
     "output_type": "stream",
     "text": [
      "Line 2 =  [ 2  1 -4]\n",
      "Line 3 =  [ 1  2 -4]\n"
     ]
    }
   ],
   "source": [
    "Line23 = np.array([[2,1,-4],[1,2,-4]])\n",
    "print(\"Line 2 = \",Line23[0])\n",
    "print(\"Line 3 = \",Line23[1])"
   ]
  },
  {
   "cell_type": "code",
   "execution_count": 113,
   "metadata": {
    "collapsed": true
   },
   "outputs": [],
   "source": [
    "def parallelcheck(l11,l12,l21,l22,i):\n",
    "    if(l11 >= l21):\n",
    "        lamda1 = l11/l21\n",
    "    else:\n",
    "        lamda1 = l21/l11\n",
    "    if(l12 >= l22):\n",
    "        lamda2 = l12 / l22\n",
    "    else:\n",
    "        lamda2 = l22 / l12\n",
    "    \n",
    "    if(lamda1 == lamda2):\n",
    "        print(\"YES! Line\", i+2 ,\" is parallel to Line 1\" )\n",
    "        print(\"Lamda1 = \",lamda1, \"Lamda2 = \", lamda2)\n",
    "    else:\n",
    "        print(\"No! Line\", i+2 ,\" is not parallel to Line 1\" )\n",
    "        print(\"Lamda1 = \",lamda1, \"Lamda2 = \", lamda2)\n"
   ]
  },
  {
   "cell_type": "code",
   "execution_count": 114,
   "metadata": {},
   "outputs": [
    {
     "name": "stdout",
     "output_type": "stream",
     "text": [
      "YES! Line 2  is parallel to Line 1\n",
      "Lamda1 =  5.0 Lamda2 =  5.0\n",
      "No! Line 3  is not parallel to Line 1\n",
      "Lamda1 =  10.0 Lamda2 =  2.5\n"
     ]
    }
   ],
   "source": [
    "for i in range(0,2):\n",
    "    parallelcheck(Line23[i][0], Line23[i][1], Line[0], Line[1],i)"
   ]
  },
  {
   "cell_type": "markdown",
   "metadata": {},
   "source": [
    "### Calculate the intersection between Line 2 and Line 3 with Line 1"
   ]
  },
  {
   "cell_type": "code",
   "execution_count": 130,
   "metadata": {
    "collapsed": true
   },
   "outputs": [],
   "source": [
    "def intersectionoftwolines(l11,l12,l13,l21,l22,l23,count):\n",
    "    h = l12 * l23 - l22 * l13\n",
    "    i = l13 * l21 - l23 * l11\n",
    "    w = l11 * l22 - l21 * l12\n",
    "\n",
    "    if(w == 0):\n",
    "        print(\"Line \",count+2, \" is parallel to line 1\")\n",
    "        print(\"X = [\", h ,\"\", i ,\"\", w,\"]\")\n",
    "    else:\n",
    "        print(\"Line \",count+2, \" is intersecting Line 1\")\n",
    "        print(\"The intersection between Line \",count +2, \" und Line 1 is at [\",h ,\"\",i,\"\",w,\"]\" )\n",
    "    "
   ]
  },
  {
   "cell_type": "code",
   "execution_count": 132,
   "metadata": {},
   "outputs": [
    {
     "name": "stdout",
     "output_type": "stream",
     "text": [
      "Line  2  is parallel to line 1\n",
      "X = [ 16  -32  0 ]\n",
      "Line  3  is intersecting with Line 1\n",
      "The intersection between Line  3  und Line 1 is at [ 12  -36  -15 ]\n"
     ]
    }
   ],
   "source": [
    "for i in range(0,2):\n",
    "    intersectionoftwolines(Line23[i][0], Line23[i][1], Line23[i][2],Line[0], Line[1], Line[2],i)"
   ]
  },
  {
   "cell_type": "markdown",
   "metadata": {},
   "source": [
    "### For Point 1, Line 1,2 and 3, calculate the distance to the origin "
   ]
  },
  {
   "cell_type": "code",
   "execution_count": 182,
   "metadata": {
    "collapsed": true
   },
   "outputs": [],
   "source": [
    "def distanceforlines(a,b,c,count):\n",
    "    d = abs(c) / math.sqrt(a**2+b**2)\n",
    "    print(\"Distance for Line\",count + 2,\"=\",d)"
   ]
  },
  {
   "cell_type": "code",
   "execution_count": 186,
   "metadata": {},
   "outputs": [
    {
     "name": "stdout",
     "output_type": "stream",
     "text": [
      "Distance for Point 1 = 0.4472135955\n",
      "Distance for Line 1 = 0.3577708764\n",
      "Distance for Line 2 = 1.788854382\n",
      "Distance for Line 3 = 1.788854382\n"
     ]
    }
   ],
   "source": [
    "distanceforpoints(x=Point[0],y=Point[1], w=Point[2], i=1)\n",
    "distanceforlines(Line[0], Line[1], Line[2],-1)\n",
    "for i in range(0,2):\n",
    "    distanceforlines(Line23[i][0], Line23[i][1],Line23[i][2],i)"
   ]
  },
  {
   "cell_type": "markdown",
   "metadata": {},
   "source": [
    "### Which is the rank of the points at infinity and the rank of the lines at infinity in P3, not counting the arbitrary scale?"
   ]
  },
  {
   "cell_type": "markdown",
   "metadata": {},
   "source": [
    "### Calculate mathematically in P2 the condition for l1 = [a; b; c] and l2 = [d; e; f] to be parallel."
   ]
  }
 ],
 "metadata": {
  "kernelspec": {
   "display_name": "Python 3",
   "language": "python",
   "name": "python3"
  },
  "language_info": {
   "codemirror_mode": {
    "name": "ipython",
    "version": 3
   },
   "file_extension": ".py",
   "mimetype": "text/x-python",
   "name": "python",
   "nbconvert_exporter": "python",
   "pygments_lexer": "ipython3",
   "version": "3.5.4"
  }
 },
 "nbformat": 4,
 "nbformat_minor": 2
}
