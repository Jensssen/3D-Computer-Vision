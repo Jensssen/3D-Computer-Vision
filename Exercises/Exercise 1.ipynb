{
 "cells": [
  {
   "cell_type": "markdown",
   "metadata": {},
   "source": [
    "# Exercise 1 - Distance from Origin"
   ]
  },
  {
   "cell_type": "code",
   "execution_count": 103,
   "metadata": {
    "collapsed": true
   },
   "outputs": [],
   "source": [
    "import math\n",
    "import numpy as np"
   ]
  },
  {
   "cell_type": "markdown",
   "metadata": {},
   "source": [
    "The function \"distance\" calculates the destance from an Euclidean origin in R2 for a P2-vector"
   ]
  },
  {
   "cell_type": "code",
   "execution_count": 133,
   "metadata": {
    "collapsed": true
   },
   "outputs": [],
   "source": [
    "def distanceforpoints(x,y,w,i):\n",
    "    d = math.sqrt(x**2+y**2)/abs(w)\n",
    "    print(\"Distance for Point\",i,\"=\",d)"
   ]
  },
  {
   "cell_type": "code",
   "execution_count": 134,
   "metadata": {},
   "outputs": [
    {
     "name": "stdout",
     "output_type": "stream",
     "text": [
      "Point 1:  [300 400 100]\n",
      "Point 2:  [300 400   1]\n",
      "Point 3:  [ 9 12  3]\n"
     ]
    }
   ],
   "source": [
    "Points = np.array([[300, 400, 100],[300, 400, 1],[9,12,3]])\n",
    "print(\"Point 1: \",Points[0])\n",
    "print(\"Point 2: \",Points[1])\n",
    "print(\"Point 3: \",Points[2])"
   ]
  },
  {
   "cell_type": "code",
   "execution_count": 135,
   "metadata": {},
   "outputs": [
    {
     "name": "stdout",
     "output_type": "stream",
     "text": [
      "Distance for Point 1 = 5.0\n",
      "Distance for Point 2 = 500.0\n",
      "Distance for Point 3 = 5.0\n"
     ]
    }
   ],
   "source": [
    "for i in range(0,3): \n",
    "    distanceforpoints(Points[i][0],Point1[i][1],Point1[i][2],i+1)"
   ]
  }
 ],
 "metadata": {
  "kernelspec": {
   "display_name": "Python 3",
   "language": "python",
   "name": "python3"
  },
  "language_info": {
   "codemirror_mode": {
    "name": "ipython",
    "version": 3
   },
   "file_extension": ".py",
   "mimetype": "text/x-python",
   "name": "python",
   "nbconvert_exporter": "python",
   "pygments_lexer": "ipython3",
   "version": "3.5.4"
  }
 },
 "nbformat": 4,
 "nbformat_minor": 2
}
